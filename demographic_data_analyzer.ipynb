{
  "nbformat": 4,
  "nbformat_minor": 0,
  "metadata": {
    "colab": {
      "provenance": [],
      "authorship_tag": "ABX9TyPsVQ/2AH0XGElPHyYY9u8T",
      "include_colab_link": true
    },
    "kernelspec": {
      "name": "python3",
      "display_name": "Python 3"
    },
    "language_info": {
      "name": "python"
    }
  },
  "cells": [
    {
      "cell_type": "markdown",
      "metadata": {
        "id": "view-in-github",
        "colab_type": "text"
      },
      "source": [
        "<a href=\"https://colab.research.google.com/github/ha0himanshuarora/demographic-data-analyzer/blob/main/demographic_data_analyzer.ipynb\" target=\"_parent\"><img src=\"https://colab.research.google.com/assets/colab-badge.svg\" alt=\"Open In Colab\"/></a>"
      ]
    },
    {
      "cell_type": "code",
      "execution_count": 1,
      "metadata": {
        "colab": {
          "base_uri": "https://localhost:8080/"
        },
        "id": "kxLCNGq_3dRc",
        "outputId": "3300b5e7-49dd-46f0-efe7-1b6092506d23"
      },
      "outputs": [
        {
          "output_type": "stream",
          "name": "stdout",
          "text": [
            "Collecting ucimlrepo\n",
            "  Downloading ucimlrepo-0.0.7-py3-none-any.whl.metadata (5.5 kB)\n",
            "Requirement already satisfied: pandas>=1.0.0 in /usr/local/lib/python3.11/dist-packages (from ucimlrepo) (2.2.2)\n",
            "Requirement already satisfied: certifi>=2020.12.5 in /usr/local/lib/python3.11/dist-packages (from ucimlrepo) (2025.6.15)\n",
            "Requirement already satisfied: numpy>=1.23.2 in /usr/local/lib/python3.11/dist-packages (from pandas>=1.0.0->ucimlrepo) (2.0.2)\n",
            "Requirement already satisfied: python-dateutil>=2.8.2 in /usr/local/lib/python3.11/dist-packages (from pandas>=1.0.0->ucimlrepo) (2.9.0.post0)\n",
            "Requirement already satisfied: pytz>=2020.1 in /usr/local/lib/python3.11/dist-packages (from pandas>=1.0.0->ucimlrepo) (2025.2)\n",
            "Requirement already satisfied: tzdata>=2022.7 in /usr/local/lib/python3.11/dist-packages (from pandas>=1.0.0->ucimlrepo) (2025.2)\n",
            "Requirement already satisfied: six>=1.5 in /usr/local/lib/python3.11/dist-packages (from python-dateutil>=2.8.2->pandas>=1.0.0->ucimlrepo) (1.17.0)\n",
            "Downloading ucimlrepo-0.0.7-py3-none-any.whl (8.0 kB)\n",
            "Installing collected packages: ucimlrepo\n",
            "Successfully installed ucimlrepo-0.0.7\n"
          ]
        }
      ],
      "source": [
        "!pip install ucimlrepo\n"
      ]
    },
    {
      "cell_type": "code",
      "source": [
        "import pandas as pd\n",
        "from ucimlrepo import fetch_ucirepo"
      ],
      "metadata": {
        "id": "aBXmxx1r4T1r"
      },
      "execution_count": 2,
      "outputs": []
    },
    {
      "cell_type": "code",
      "source": [
        "adult=fetch_ucirepo(id=2)"
      ],
      "metadata": {
        "id": "s9L9QTMz4k8E"
      },
      "execution_count": 3,
      "outputs": []
    },
    {
      "cell_type": "code",
      "source": [
        "x=adult.data.features\n",
        "print(x)"
      ],
      "metadata": {
        "colab": {
          "base_uri": "https://localhost:8080/"
        },
        "id": "paPwhxFC4kLt",
        "outputId": "2558ca74-82c5-468b-d326-c70ef20d767a"
      },
      "execution_count": 4,
      "outputs": [
        {
          "output_type": "stream",
          "name": "stdout",
          "text": [
            "       age         workclass  ...  hours-per-week native-country\n",
            "0       39         State-gov  ...              40  United-States\n",
            "1       50  Self-emp-not-inc  ...              13  United-States\n",
            "2       38           Private  ...              40  United-States\n",
            "3       53           Private  ...              40  United-States\n",
            "4       28           Private  ...              40           Cuba\n",
            "...    ...               ...  ...             ...            ...\n",
            "48837   39           Private  ...              36  United-States\n",
            "48838   64               NaN  ...              40  United-States\n",
            "48839   38           Private  ...              50  United-States\n",
            "48840   44           Private  ...              40  United-States\n",
            "48841   35      Self-emp-inc  ...              60  United-States\n",
            "\n",
            "[48842 rows x 14 columns]\n"
          ]
        }
      ]
    },
    {
      "cell_type": "code",
      "source": [
        "y=adult.data.targets\n",
        "print(y)"
      ],
      "metadata": {
        "colab": {
          "base_uri": "https://localhost:8080/"
        },
        "id": "XEQSaOWY451b",
        "outputId": "23e7fdf3-56e0-42ba-8110-52b52437ca37"
      },
      "execution_count": 5,
      "outputs": [
        {
          "output_type": "stream",
          "name": "stdout",
          "text": [
            "       income\n",
            "0       <=50K\n",
            "1       <=50K\n",
            "2       <=50K\n",
            "3       <=50K\n",
            "4       <=50K\n",
            "...       ...\n",
            "48837  <=50K.\n",
            "48838  <=50K.\n",
            "48839  <=50K.\n",
            "48840  <=50K.\n",
            "48841   >50K.\n",
            "\n",
            "[48842 rows x 1 columns]\n"
          ]
        }
      ]
    },
    {
      "cell_type": "code",
      "source": [
        "df=pd.concat([x,y],axis=1)"
      ],
      "metadata": {
        "id": "8EGeFlFV5I1Q"
      },
      "execution_count": 6,
      "outputs": []
    },
    {
      "cell_type": "code",
      "source": [
        "print(df)"
      ],
      "metadata": {
        "colab": {
          "base_uri": "https://localhost:8080/"
        },
        "id": "s2DkG-kR5PJs",
        "outputId": "c1e9153f-9543-4314-c190-2141d55abe34"
      },
      "execution_count": 7,
      "outputs": [
        {
          "output_type": "stream",
          "name": "stdout",
          "text": [
            "       age         workclass  fnlwgt  ... hours-per-week  native-country  income\n",
            "0       39         State-gov   77516  ...             40   United-States   <=50K\n",
            "1       50  Self-emp-not-inc   83311  ...             13   United-States   <=50K\n",
            "2       38           Private  215646  ...             40   United-States   <=50K\n",
            "3       53           Private  234721  ...             40   United-States   <=50K\n",
            "4       28           Private  338409  ...             40            Cuba   <=50K\n",
            "...    ...               ...     ...  ...            ...             ...     ...\n",
            "48837   39           Private  215419  ...             36   United-States  <=50K.\n",
            "48838   64               NaN  321403  ...             40   United-States  <=50K.\n",
            "48839   38           Private  374983  ...             50   United-States  <=50K.\n",
            "48840   44           Private   83891  ...             40   United-States  <=50K.\n",
            "48841   35      Self-emp-inc  182148  ...             60   United-States   >50K.\n",
            "\n",
            "[48842 rows x 15 columns]\n"
          ]
        }
      ]
    },
    {
      "cell_type": "code",
      "source": [
        "race_count=df['race'].value_counts()"
      ],
      "metadata": {
        "id": "aY4f7luX5SRP"
      },
      "execution_count": 9,
      "outputs": []
    },
    {
      "cell_type": "markdown",
      "source": [],
      "metadata": {
        "id": "J5KhjpqK56oI"
      }
    },
    {
      "cell_type": "code",
      "source": [
        "print(race_count)"
      ],
      "metadata": {
        "colab": {
          "base_uri": "https://localhost:8080/"
        },
        "id": "XeuGsmjT5yDP",
        "outputId": "70e1ccbd-86d6-4d90-c9ed-124f127342d9"
      },
      "execution_count": 10,
      "outputs": [
        {
          "output_type": "stream",
          "name": "stdout",
          "text": [
            "race\n",
            "White                 41762\n",
            "Black                  4685\n",
            "Asian-Pac-Islander     1519\n",
            "Amer-Indian-Eskimo      470\n",
            "Other                   406\n",
            "Name: count, dtype: int64\n"
          ]
        }
      ]
    },
    {
      "cell_type": "code",
      "source": [
        "average_age_men=round(df[df['sex']=='Male']['age'].mean(),1)"
      ],
      "metadata": {
        "id": "ErZ5y_H754B_"
      },
      "execution_count": 21,
      "outputs": []
    },
    {
      "cell_type": "code",
      "source": [
        "print(average_age_men)"
      ],
      "metadata": {
        "colab": {
          "base_uri": "https://localhost:8080/"
        },
        "id": "pvlGAyQy6aTv",
        "outputId": "69761321-ff2d-4e7b-91d4-e1376e4e351b"
      },
      "execution_count": 22,
      "outputs": [
        {
          "output_type": "stream",
          "name": "stdout",
          "text": [
            "39.5\n"
          ]
        }
      ]
    },
    {
      "cell_type": "code",
      "source": [
        "total_count=len(df)"
      ],
      "metadata": {
        "id": "QzyCuKVOLBO2"
      },
      "execution_count": 23,
      "outputs": []
    },
    {
      "cell_type": "code",
      "source": [
        "bachelors_count=len(df[df['education']=='Bachelors'])\n",
        "percentage_bachelors=round((bachelors_count/total_count)*100,1)\n",
        "print(percentage_bachelors)"
      ],
      "metadata": {
        "colab": {
          "base_uri": "https://localhost:8080/"
        },
        "id": "k_SmLizILNRe",
        "outputId": "019da126-55cc-448e-bb70-22b5891f068f"
      },
      "execution_count": 26,
      "outputs": [
        {
          "output_type": "stream",
          "name": "stdout",
          "text": [
            "16.4\n"
          ]
        }
      ]
    },
    {
      "cell_type": "code",
      "source": [
        "advanced=df['education'].isin(['Bachelors','Masters','Doctrate'])\n",
        "higher_edu=df[advanced]\n",
        "lower_edu=df[~advanced]\n",
        "percentage_higher=round(len(higher_edu[higher_edu['income']=='>50K'])/len(higher_edu)*100,1)\n",
        "print(percentage_higher)"
      ],
      "metadata": {
        "colab": {
          "base_uri": "https://localhost:8080/"
        },
        "id": "7RxCSfxUMSUg",
        "outputId": "6256f2cb-42b5-4590-ffa9-39983826775e"
      },
      "execution_count": 36,
      "outputs": [
        {
          "output_type": "stream",
          "name": "stdout",
          "text": [
            "29.8\n"
          ]
        }
      ]
    },
    {
      "cell_type": "code",
      "source": [
        "percentage_lower=round(len(lower_edu[lower_edu['income']=='>50K'])/len(lower_edu)*100,1)\n",
        "print(percentage_lower)"
      ],
      "metadata": {
        "colab": {
          "base_uri": "https://localhost:8080/"
        },
        "id": "9C3uM7ZpODIs",
        "outputId": "76b88419-1c5e-4172-bb25-84169010d26e"
      },
      "execution_count": 38,
      "outputs": [
        {
          "output_type": "stream",
          "name": "stdout",
          "text": [
            "12.2\n"
          ]
        }
      ]
    },
    {
      "cell_type": "code",
      "source": [
        "min_work_hours=df['hours-per-week'].min()\n",
        "print(min_work_hours)"
      ],
      "metadata": {
        "colab": {
          "base_uri": "https://localhost:8080/"
        },
        "id": "1cY5KlNwPVSk",
        "outputId": "5774b1ca-ced5-4d19-96e8-4aaffaea7052"
      },
      "execution_count": 39,
      "outputs": [
        {
          "output_type": "stream",
          "name": "stdout",
          "text": [
            "1\n"
          ]
        }
      ]
    },
    {
      "cell_type": "code",
      "source": [
        "min_workers=df[df['hours-per-week']==min_work_hours]\n",
        "rich_min_workers=min_workers[min_workers['income']=='>50K']\n",
        "rich_percentage=round(len(rich_min_workers)/len(min_workers)*100,1)\n",
        "print(rich_percentage)"
      ],
      "metadata": {
        "colab": {
          "base_uri": "https://localhost:8080/"
        },
        "id": "aswqOSatPfci",
        "outputId": "eaa6a7d4-acbc-4e1f-a99c-7953033364da"
      },
      "execution_count": 40,
      "outputs": [
        {
          "output_type": "stream",
          "name": "stdout",
          "text": [
            "7.4\n"
          ]
        }
      ]
    },
    {
      "cell_type": "code",
      "source": [
        "country_counts=df['native-country'].value_counts()\n",
        "rich_country_counts=df[df['income']=='>50K']['native-country'].value_counts()\n",
        "rich_percentage=round((rich_country_counts/country_counts)*100,1)\n",
        "highest_earning_country=rich_percentage.idxmax()\n",
        "print(highest_earning_country)"
      ],
      "metadata": {
        "colab": {
          "base_uri": "https://localhost:8080/"
        },
        "id": "CWnDuh4oQmvN",
        "outputId": "027640ef-e4fe-4111-e803-85a74163dd82"
      },
      "execution_count": 47,
      "outputs": [
        {
          "output_type": "stream",
          "name": "stdout",
          "text": [
            "France\n"
          ]
        }
      ]
    },
    {
      "cell_type": "code",
      "source": [
        "india_rich=df[(df['native-country']=='India')&(df['income']=='>50K')]\n",
        "top_IN_occupation=india_rich['occupation'].value_counts().idxmax()\n",
        "print(top_IN_occupation)"
      ],
      "metadata": {
        "colab": {
          "base_uri": "https://localhost:8080/"
        },
        "id": "GOlZVXolTdSH",
        "outputId": "2c1ac4ac-73cc-4849-9b6a-6c4a5189bd1d"
      },
      "execution_count": 48,
      "outputs": [
        {
          "output_type": "stream",
          "name": "stdout",
          "text": [
            "Prof-specialty\n"
          ]
        }
      ]
    },
    {
      "cell_type": "markdown",
      "source": [
        "**All results**"
      ],
      "metadata": {
        "id": "_U4wAhcpUSja"
      }
    },
    {
      "cell_type": "code",
      "source": [
        "print(race_count)\n",
        "print(average_age_men)\n",
        "print(percentage_bachelors)\n",
        "print(percentage_higher)\n",
        "print(percentage_lower)\n",
        "print(min_work_hours)\n",
        "print(rich_percentage)\n",
        "print(highest_earning_country)\n",
        "print(top_IN_occupation)"
      ],
      "metadata": {
        "colab": {
          "base_uri": "https://localhost:8080/"
        },
        "id": "tE4DJBrnUU8X",
        "outputId": "84f93053-9ad5-46f6-f7b3-f3e3db6a0ede"
      },
      "execution_count": 49,
      "outputs": [
        {
          "output_type": "stream",
          "name": "stdout",
          "text": [
            "race\n",
            "White                 41762\n",
            "Black                  4685\n",
            "Asian-Pac-Islander     1519\n",
            "Amer-Indian-Eskimo      470\n",
            "Other                   406\n",
            "Name: count, dtype: int64\n",
            "39.5\n",
            "16.4\n",
            "29.8\n",
            "12.2\n",
            "1\n",
            "native-country\n",
            "?                             25.0\n",
            "Cambodia                      25.0\n",
            "Canada                        21.4\n",
            "China                         16.4\n",
            "Columbia                       2.4\n",
            "Cuba                          18.1\n",
            "Dominican-Republic             1.9\n",
            "Ecuador                        8.9\n",
            "El-Salvador                    5.8\n",
            "England                       23.6\n",
            "France                        31.6\n",
            "Germany                       21.4\n",
            "Greece                        16.3\n",
            "Guatemala                      3.4\n",
            "Haiti                          5.3\n",
            "Holand-Netherlands             NaN\n",
            "Honduras                       5.0\n",
            "Hong                          20.0\n",
            "Hungary                       15.8\n",
            "India                         26.5\n",
            "Iran                          30.5\n",
            "Ireland                       13.5\n",
            "Italy                         23.8\n",
            "Jamaica                        9.4\n",
            "Japan                         26.1\n",
            "Laos                           8.7\n",
            "Mexico                         3.5\n",
            "Nicaragua                      4.1\n",
            "Outlying-US(Guam-USVI-etc)     NaN\n",
            "Peru                           4.3\n",
            "Philippines                   20.7\n",
            "Poland                        13.8\n",
            "Portugal                       6.0\n",
            "Puerto-Rico                    6.5\n",
            "Scotland                      14.3\n",
            "South                         13.9\n",
            "Taiwan                        30.8\n",
            "Thailand                      10.0\n",
            "Trinadad&Tobago                7.4\n",
            "United-States                 16.4\n",
            "Vietnam                        5.8\n",
            "Yugoslavia                    26.1\n",
            "Name: count, dtype: float64\n",
            "France\n",
            "Prof-specialty\n"
          ]
        }
      ]
    }
  ]
}